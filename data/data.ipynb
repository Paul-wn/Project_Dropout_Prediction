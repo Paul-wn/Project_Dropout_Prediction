{
 "cells": [
  {
   "cell_type": "code",
   "execution_count": null,
   "metadata": {},
   "outputs": [],
   "source": [
    "import pandas\n",
    "df = pandas.read_excel('../ignore/data_dropout_59-64.xlsx')\n",
    "# df "
   ]
  },
  {
   "cell_type": "code",
   "execution_count": null,
   "metadata": {},
   "outputs": [],
   "source": [
    "df= df[[   'MAJOR_ID', \n",
    "       'DEPT_ID',  \n",
    "         'STUDY_TYPE_ID',\n",
    "        'DEGREE_ID', \n",
    "        'STUDY_STATUS', \n",
    "       'STILL_STUDENT',  'SEX_SHORT_NAME_THAI',\n",
    "       'ENT_METHOD',  \n",
    "        'PREV_INSTITUTION_NAME', 'INSTITUTION_PROVINCE_ID',\n",
    "        'ENG_SCORE', \n",
    "        'IN_PROVINCE',\n",
    "       'IN_PROVINCE_CAMPUS', 'เกรดปี1เทอม1', 'เกรดปี1เทอม2', 'เกรดปี1เทอม3',\n",
    "       'เกรดปี2เทอม1', 'เกรดปี2เทอม2', 'เกรดปี2เทอม3', 'เกรดปี3เทอม1',\n",
    "       'เกรดปี3เทอม2', 'เกรดปี3เทอม3', 'เกรดปี4เทอม1', 'เกรดปี4เทอม2',\n",
    "       'เกรดปี4เทอม3', 'GPA_SCHOOL',  'FUND_NAME_CODE',\n",
    "       'PARENTS_MARRIED_NAME_CODE']]"
   ]
  },
  {
   "cell_type": "code",
   "execution_count": null,
   "metadata": {},
   "outputs": [],
   "source": [
    "drop = df[df['STUDY_STATUS']=='R']\n",
    "# drop"
   ]
  },
  {
   "cell_type": "code",
   "execution_count": null,
   "metadata": {},
   "outputs": [],
   "source": [
    "graduate = df[df['STUDY_STATUS']=='G']\n",
    "testOK = (df[df['STUDY_STATUS']=='OK']).sample(n=100,random_state=10)\n",
    "testOK = testOK.drop('STUDY_STATUS',axis=1)\n",
    "# testOK\n",
    "# graduate"
   ]
  },
  {
   "cell_type": "code",
   "execution_count": null,
   "metadata": {},
   "outputs": [],
   "source": [
    "columns = [\"เกรดปี1เทอม1\", \"เกรดปี1เทอม2\", \"เกรดปี2เทอม1\",  \"เกรดปี2เทอม2\",  \"เกรดปี3เทอม1\",  \"เกรดปี3เทอม2\",  \"เกรดปี4เทอม1\", \"เกรดปี4เทอม2\"]\n",
    "\n",
    "for c in columns:\n",
    "    indexs = graduate[graduate[c].isna()].index\n",
    "    graduate = graduate.drop(indexs)\n",
    "\n",
    "# graduate"
   ]
  },
  {
   "cell_type": "code",
   "execution_count": null,
   "metadata": {},
   "outputs": [],
   "source": [
    "data = pandas.concat([graduate,drop],axis=0)"
   ]
  },
  {
   "cell_type": "code",
   "execution_count": null,
   "metadata": {},
   "outputs": [],
   "source": [
    "# data"
   ]
  },
  {
   "cell_type": "code",
   "execution_count": null,
   "metadata": {},
   "outputs": [],
   "source": [
    "test = data.sample(n=90,random_state=100)\n",
    "# test = df[df['STUDY_STATUS']=='I']\n",
    "# test=test.head(30)\n",
    "# test=test.replace('I',' ')\n",
    "test=test.drop(columns='STUDY_STATUS')\n",
    "# test"
   ]
  },
  {
   "cell_type": "code",
   "execution_count": null,
   "metadata": {},
   "outputs": [],
   "source": [
    "# (test['STUDY_STATUS'] == \"G\").sum()"
   ]
  },
  {
   "cell_type": "code",
   "execution_count": null,
   "metadata": {},
   "outputs": [],
   "source": [
    "train = data.drop(test.index)\n",
    "# train= data"
   ]
  },
  {
   "cell_type": "code",
   "execution_count": null,
   "metadata": {},
   "outputs": [],
   "source": [
    "# (train['STUDY_STATUS'] == \"G\").sum()"
   ]
  },
  {
   "cell_type": "code",
   "execution_count": null,
   "metadata": {},
   "outputs": [],
   "source": [
    "from pycaret.classification import *"
   ]
  },
  {
   "cell_type": "code",
   "execution_count": null,
   "metadata": {},
   "outputs": [],
   "source": [
    "s = setup(data=train,target='STUDY_STATUS')"
   ]
  },
  {
   "cell_type": "code",
   "execution_count": null,
   "metadata": {},
   "outputs": [],
   "source": [
    "# data = pandas.DataFrame([],columns=['',''])\n"
   ]
  },
  {
   "cell_type": "code",
   "execution_count": null,
   "metadata": {},
   "outputs": [],
   "source": [
    "models = compare_models()"
   ]
  },
  {
   "cell_type": "code",
   "execution_count": null,
   "metadata": {},
   "outputs": [],
   "source": [
    "model=create_model('ada')"
   ]
  },
  {
   "cell_type": "code",
   "execution_count": null,
   "metadata": {},
   "outputs": [],
   "source": [
    "tuned=tune_model(model)"
   ]
  },
  {
   "cell_type": "code",
   "execution_count": null,
   "metadata": {},
   "outputs": [],
   "source": [
    "models"
   ]
  },
  {
   "cell_type": "code",
   "execution_count": null,
   "metadata": {},
   "outputs": [],
   "source": [
    "predictions = predict_model(tuned,data=testOK)"
   ]
  },
  {
   "cell_type": "code",
   "execution_count": null,
   "metadata": {},
   "outputs": [],
   "source": [
    "predictions['prediction_label']"
   ]
  },
  {
   "cell_type": "code",
   "execution_count": null,
   "metadata": {},
   "outputs": [],
   "source": [
    "predictions"
   ]
  },
  {
   "cell_type": "code",
   "execution_count": null,
   "metadata": {},
   "outputs": [],
   "source": [
    "save_model(models,'test2')"
   ]
  },
  {
   "cell_type": "code",
   "execution_count": null,
   "metadata": {},
   "outputs": [],
   "source": [
    "models = load_model('test2')"
   ]
  },
  {
   "cell_type": "code",
   "execution_count": null,
   "metadata": {},
   "outputs": [],
   "source": [
    "models"
   ]
  },
  {
   "cell_type": "code",
   "execution_count": null,
   "metadata": {},
   "outputs": [],
   "source": [
    "df3 = pandas.read_excel('../ignore/data_dropout_59-64.xlsx')\n",
    "columns = ['เกรดปี1เทอม1',\n",
    "         'เกรดปี1เทอม2',\n",
    "         'เกรดปี1เทอม3',\n",
    "         'เกรดปี2เทอม1',\n",
    "         'เกรดปี2เทอม2',\n",
    "         'เกรดปี2เทอม3',\n",
    "         'เกรดปี3เทอม1',\n",
    "         'เกรดปี3เทอม2',\n",
    "         'เกรดปี3เทอม3',\n",
    "         'เกรดปี4เทอม1',\n",
    "         'เกรดปี4เทอม2',\n",
    "         'เกรดปี4เทอม3'\n",
    "         ]\n",
    "for i in columns:\n",
    "    df3[i].fillna(0,inplace=True)\n",
    "\n",
    "df3['MEAN'] = (df3.iloc[:,41:53]).mean(axis=1)\n",
    "df3['MAX'] = (df3.iloc[:,41:53]).max(axis=1)\n",
    "# df3['MIN'] = (df3.iloc[:,41:53]).min(axis=1)\n",
    "# df3['SEX_SHORT_NAME_THAI']\n"
   ]
  },
  {
   "cell_type": "code",
   "execution_count": null,
   "metadata": {},
   "outputs": [],
   "source": [
    "df3 = df3[['MAJOR_ID','DEPT_ID',\n",
    "         'STUDY_TYPE_ID','DEGREE_ID',\n",
    "         'STUDY_STATUS',\n",
    "         'SEX_SHORT_NAME_THAI',\n",
    "         'ENG_SCORE',\n",
    "         'IN_PROVINCE',\n",
    "         'IN_PROVINCE_CAMPUS',\n",
    "         'GPA_SCHOOL',\n",
    "         'PARENTS_MARRIED_NAME_CODE',\n",
    "         'MEAN',\n",
    "         'MAX',\n",
    "         ]]\n",
    "\n",
    "df3['SEX_SHORT_NAME_THAI'] = df3['SEX_SHORT_NAME_THAI'].replace({'ช':'M','ญ':'F'})\n",
    "# df3"
   ]
  },
  {
   "cell_type": "code",
   "execution_count": null,
   "metadata": {},
   "outputs": [],
   "source": [
    "RG = df3[df3['STUDY_STATUS'].isin(['R', 'G'])]\n",
    "train33 = RG\n",
    "testOK = (df3[df3['STUDY_STATUS']=='OK']).sample(n=100,random_state=10)\n",
    "testOK = testOK.drop('STUDY_STATUS',axis=1)\n",
    "# train = train.drop(testOK.index)\n",
    "# testOK"
   ]
  },
  {
   "cell_type": "code",
   "execution_count": null,
   "metadata": {},
   "outputs": [],
   "source": [
    "model = setup(data=train33,target='STUDY_STATUS')\n"
   ]
  },
  {
   "cell_type": "code",
   "execution_count": null,
   "metadata": {},
   "outputs": [],
   "source": [
    "best_models = compare_models()"
   ]
  },
  {
   "cell_type": "code",
   "execution_count": null,
   "metadata": {},
   "outputs": [],
   "source": [
    "predict_model(best_models,data=testOK)"
   ]
  }
 ],
 "metadata": {
  "kernelspec": {
   "display_name": "Python 3",
   "language": "python",
   "name": "python3"
  },
  "language_info": {
   "codemirror_mode": {
    "name": "ipython",
    "version": 3
   },
   "file_extension": ".py",
   "mimetype": "text/x-python",
   "name": "python",
   "nbconvert_exporter": "python",
   "pygments_lexer": "ipython3",
   "version": "3.10.10"
  },
  "orig_nbformat": 4,
  "vscode": {
   "interpreter": {
    "hash": "854ad7b50770bedaf0cab730b1aaabb765566ea98036f134b639e260bede141e"
   }
  }
 },
 "nbformat": 4,
 "nbformat_minor": 2
}
